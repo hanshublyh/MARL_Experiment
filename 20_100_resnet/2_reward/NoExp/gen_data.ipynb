{
 "cells": [
  {
   "cell_type": "code",
   "execution_count": 1,
   "metadata": {},
   "outputs": [],
   "source": [
    "import torch\n",
    "import numpy as np\n",
    "import pandas as pd\n",
    "import random\n",
    "import copy \n",
    "import time "
   ]
  },
  {
   "cell_type": "code",
   "execution_count": null,
   "metadata": {},
   "outputs": [],
   "source": [
    "# 先写麻烦的 那就是要确保流量不变性\n",
    "# 确定一下流量的比例 到底这个初始的流量比例占百分之多少 然后输出一下\n",
    "# 把mac_sev s_cpu s_mem totoal_cpu total_mem 读进来 其实最简单的办法就是把mac_sev的每一种服务增加一下 然后直到物理机容量增加"
   ]
  },
  {
   "cell_type": "code",
   "execution_count": null,
   "metadata": {},
   "outputs": [],
   "source": [
    "def test(total_cpu, total_mem, s_cpu, s_mem, mac_trf, trf_cpu_mem, mac_sev, sev_trf_in, sev_trf_out, sev_trf):\n",
    "    # total cpu == now all\n",
    "    # mac cpu == input mac cpu && now all\n",
    "    # sev_trf == ?\n",
    "    # mac_trf\n",
    "    # com p == now all p_cpu and p_mem\n",
    "    m_c = np.dot(mac_sev, s_cpu)\n",
    "    m_m = np.dot(mac_sev, s_mem)\n",
    "    print(m_c)\n",
    "    print(m_m)\n",
    "    print(np.allclose(m_c, trf_cpu_mem[: , 1]))\n",
    "    print(np.allclose(m_m, trf_cpu_mem[: , 4]))\n",
    "    p_c = m_c / total_cpu\n",
    "    p_m = m_m / total_mem\n",
    "    print(p_c)\n",
    "    print(p_m)\n",
    "    print(np.allclose(p_c, trf_cpu_mem[:, 3]))\n",
    "    print(np.allclose(p_m, trf_cpu_mem[:, 6]))\n",
    "    m_t = np.zeros(mac_sev.shape[0])\n",
    "    for a in range(mac_sev.shape[0]):\n",
    "        for b in range(mac_sev.shape[1] - 1):\n",
    "            for c in range(b + 1, mac_sev.shape[1]):\n",
    "                m_t[a] += min(sev_trf_out[b][c] * mac_sev[a][b], sev_trf_in[b][c] * mac_sev[a][c])\n",
    "    print(np.allclose(m_t, mac_trf))\n",
    "    a = np.dot(sev_trf_in, mac_sev.sum(axis = 0)\n",
    "    b = sev_trf_out * mac_sev.sum(axis = 0)\n"
   ]
  },
  {
   "cell_type": "markdown",
   "metadata": {},
   "source": [
    "# 这是分布不同\n",
    "\n",
    "## mac_sev, now_all, mac_trf, mac_cpu, mac_mem"
   ]
  },
  {
   "cell_type": "markdown",
   "metadata": {},
   "source": [
    "### VT_1 "
   ]
  },
  {
   "cell_type": "code",
   "execution_count": 21,
   "metadata": {},
   "outputs": [
    {
     "name": "stdout",
     "output_type": "stream",
     "text": [
      "(10, 8)\n",
      "(10, 80)\n",
      "(10, 80)\n",
      "(10, 80)\n",
      "(80, 80)\n",
      "(80, 80)\n",
      "(80, 80)\n",
      "(10,)\n",
      "(10,)\n"
     ]
    }
   ],
   "source": [
    "ll_path = \"../\"\n",
    "rank_name = ll_path + 'rank.txt'\n",
    "\n",
    "VT_name = 1\n",
    "\n",
    "rank_array = np.loadtxt(rank_name, dtype=np.float32, delimiter=',')\n",
    "rank = int(rank_array[2])\n",
    "\n",
    "##reward_kind_name = 'reward.txt'\n",
    "#with open(reward_kind_name, 'r') as f:\n",
    "#    reward_kind = f.read()\n",
    "\n",
    "filename = ll_path + 'data' + str(rank) + '/'\n",
    "dot = '.npy'\n",
    "mac_kind = int(rank_array[0])\n",
    "sev_kind = int(rank_array[1])\n",
    "\n",
    "#####################\n",
    "#VT_1mac_sev_10_80\n",
    "mac_sev_name = 'VT_' + str(VT_name) + 'mac_sev' + '_' + \\\n",
    "    str(mac_kind) + '_' + str(sev_kind)\n",
    "mac_trf_name = 'VT_' + str(VT_name) + 'mac_trf' + '_' + \\\n",
    "    str(mac_kind) + '_' + str(sev_kind) \n",
    "\n",
    "sev_trf_name = 'sev_trf' + '_' + str(sev_kind) + '_' + str(rank)  # 后面可以补充字符串说明\n",
    "sev_trf_out_name = 'sev_trf_out' + '_' + \\\n",
    "    str(sev_kind) + '_' + str(rank)  # 后面可以补充字符串说明\n",
    "sev_trf_in_name = 'sev_trf_in' + '_' + \\\n",
    "    str(sev_kind) + '_' + str(rank)  # 后面可以补充字符串说明\n",
    "sev_cpu_name = 'sev_cpu' + '_' + str(sev_kind) + '_' + str(rank)\n",
    "sev_mem_name = 'sev_mem' + '_' + str(sev_kind) + '_' + str(rank) \n",
    "\n",
    "####################\n",
    "# mac_cpu_name = 'mac_cpu' + '_' + str(mac_kind) + '_' + str(rank)\n",
    "# mac_mem_name = 'mac_mem' + '_' + str(mac_kind) + '_' + str(rank)\n",
    "\n",
    "total_cpu_name = 'total_cpu' + '_' + str(mac_kind) + '_' + str(rank)\n",
    "total_mem_name = 'total_mem' + '_' + str(mac_kind) + '_' + str(rank)\n",
    "\n",
    "############################\n",
    "mac_sev_cpu_name = 'VT_' + str(VT_name) + 'mac_sev_cpu'  + \\\n",
    "    str(mac_kind) + '_' + str(sev_kind)\n",
    "mac_sev_mem_name = 'VT_' + str(VT_name) + 'mac_sev_mem'  + \\\n",
    "    str(mac_kind) + '_' + str(sev_kind)\n",
    "now_all_name = 'VT_' + str(VT_name) + 'now_all' + '_' + str(mac_kind) + '_' + str(sev_kind)\n",
    "\n",
    "trf_cpu_mem = np.load(filename + now_all_name + dot)\n",
    "mac_sev_cpu = np.load(filename + mac_sev_cpu_name + dot)\n",
    "mac_sev_mem = np.load(filename + mac_sev_mem_name + dot)\n",
    "mac_sev = np.load(filename + mac_sev_name + dot)\n",
    "sev_trf = np.load(filename + sev_trf_name + dot)\n",
    "sev_trf_out = np.load(filename + sev_trf_out_name + dot)\n",
    "sev_trf_in = np.load(filename + sev_trf_in_name + dot)\n",
    "\n",
    "# mac_cpu = np.load(filename + mac_cpu_name + dot)\n",
    "# mac_mem = np.load(filename + mac_mem_name + dot)\n",
    "total_cpu = np.load(filename + total_cpu_name + dot)\n",
    "total_mem = np.load(filename + total_mem_name + dot)\n",
    "\n",
    "\n",
    "s_cpu = np.load(filename + sev_cpu_name + dot)\n",
    "s_mem = np.load(filename + sev_mem_name + dot)\n",
    "stop = np.zeros(mac_sev.shape[0]).reshape((mac_sev.shape[0], 1))\n",
    "trf_cpu_mem = np.concatenate((trf_cpu_mem, stop), axis=1)\n",
    "\n",
    "\n",
    "print(trf_cpu_mem.shape)\n",
    "print(mac_sev_cpu.shape)\n",
    "print(mac_sev_mem.shape)\n",
    "print(mac_sev.shape)\n",
    "print(sev_trf.shape)\n",
    "print(sev_trf_out.shape)\n",
    "print(sev_trf_in.shape)\n",
    "# print(mac_cpu.shape)\n",
    "# print(mac_mem.shape)\n",
    "print(total_cpu.shape)\n",
    "print(total_mem.shape)"
   ]
  },
  {
   "cell_type": "code",
   "execution_count": 23,
   "metadata": {},
   "outputs": [
    {
     "data": {
      "text/plain": [
       "array([ True,  True,  True,  True,  True,  True,  True,  True,  True,\n",
       "        True])"
      ]
     },
     "execution_count": 23,
     "metadata": {},
     "output_type": "execute_result"
    }
   ],
   "source": [
    "m_s = np.dot(mac_sev, s_cpu)\n",
    "m_s == trf_cpu_mem[:, 1]"
   ]
  },
  {
   "cell_type": "code",
   "execution_count": 58,
   "metadata": {},
   "outputs": [
    {
     "data": {
      "text/plain": [
       "array([1., 2., 2., 3., 1., 3., 5., 6., 1., 8., 1., 3., 1., 6., 2., 4., 5.,\n",
       "       5., 2., 3., 2., 1., 4., 8., 7., 2., 5., 1., 6., 6., 5., 3., 5., 9.,\n",
       "       3., 4., 3., 1., 4., 3., 8., 2., 2., 3., 4., 3., 7., 3., 2., 1., 3.,\n",
       "       3., 3., 1., 2., 1., 2., 2., 1., 5., 4., 3., 2., 5., 5., 7., 4., 6.,\n",
       "       4., 1., 3., 4., 3., 3., 3., 5., 3., 5., 4., 2.])"
      ]
     },
     "execution_count": 58,
     "metadata": {},
     "output_type": "execute_result"
    }
   ],
   "source": [
    "mac_sev.sum(axis= 0)"
   ]
  },
  {
   "cell_type": "code",
   "execution_count": 54,
   "metadata": {},
   "outputs": [],
   "source": [
    "tmp = mac_sev.sum(axis = 0).reshape((mac_sev.shape[1], 1))\n",
    "a = mac_sev.sum(axis= 0) * sev_trf_in\n",
    "b = sev_trf_out * tmp "
   ]
  },
  {
   "cell_type": "code",
   "execution_count": 40,
   "metadata": {},
   "outputs": [],
   "source": [
    "c = np.ones((80,80))"
   ]
  },
  {
   "cell_type": "code",
   "execution_count": 50,
   "metadata": {},
   "outputs": [
    {
     "data": {
      "text/plain": [
       "array([[   0.,    0.,  238., ...,  192.,  188.,    0.],\n",
       "       [   0.,    0.,  154., ...,  120.,   56.,  176.],\n",
       "       [   0.,    0.,    0., ...,    0.,  176.,   72.],\n",
       "       ...,\n",
       "       [   0.,    0.,    0., ...,    0., 1160., 1220.],\n",
       "       [   0.,    0.,    0., ...,    0.,    0.,    0.],\n",
       "       [   0.,    0.,    0., ...,    0.,    0.,    0.]])"
      ]
     },
     "execution_count": 50,
     "metadata": {},
     "output_type": "execute_result"
    }
   ],
   "source": [
    "b"
   ]
  },
  {
   "cell_type": "code",
   "execution_count": 55,
   "metadata": {},
   "outputs": [
    {
     "data": {
      "text/plain": [
       "array([[   0.,    0.,  272., ..., 1280.,  752.,    0.],\n",
       "       [   0.,    0.,  242., ..., 1100.,  308.,  484.],\n",
       "       [   0.,    0.,    0., ...,    0.,  616.,  126.],\n",
       "       ...,\n",
       "       [   0.,    0.,    0., ...,    0.,  696.,  366.],\n",
       "       [   0.,    0.,    0., ...,    0.,    0.,    0.],\n",
       "       [   0.,    0.,    0., ...,    0.,    0.,    0.]])"
      ]
     },
     "execution_count": 55,
     "metadata": {},
     "output_type": "execute_result"
    }
   ],
   "source": [
    "a"
   ]
  },
  {
   "cell_type": "code",
   "execution_count": 61,
   "metadata": {},
   "outputs": [
    {
     "data": {
      "text/plain": [
       "136.0"
      ]
     },
     "execution_count": 61,
     "metadata": {},
     "output_type": "execute_result"
    }
   ],
   "source": [
    "sev_trf_in[0][2] "
   ]
  },
  {
   "cell_type": "code",
   "execution_count": 60,
   "metadata": {},
   "outputs": [
    {
     "data": {
      "text/plain": [
       "238.0"
      ]
     },
     "execution_count": 60,
     "metadata": {},
     "output_type": "execute_result"
    }
   ],
   "source": [
    "sev_trf_out[0][2]"
   ]
  },
  {
   "cell_type": "code",
   "execution_count": 62,
   "metadata": {},
   "outputs": [
    {
     "data": {
      "text/plain": [
       "4.0"
      ]
     },
     "execution_count": 62,
     "metadata": {},
     "output_type": "execute_result"
    }
   ],
   "source": [
    "sev_trf[0][2] / sev_trf_out[0][2]"
   ]
  },
  {
   "cell_type": "markdown",
   "metadata": {},
   "source": [
    "## 1"
   ]
  },
  {
   "cell_type": "code",
   "execution_count": 161,
   "metadata": {},
   "outputs": [
    {
     "name": "stdout",
     "output_type": "stream",
     "text": [
      "[0.37273259 0.35342305 0.36102984 0.27520967 0.28730252 0.29568646\n",
      " 0.23283859 0.23144712 0.18413729 0.20106679]\n",
      "[0.35338949 0.418572   0.35218612 0.25070197 0.26333734 0.38576598\n",
      " 0.3490953  0.28709288 0.23232811 0.20699638]\n",
      "[1911. 1812. 1851. 1411. 1473. 1275. 1004.  998.  794.  867.]\n",
      "[1762. 2087. 1756. 1250. 1313. 1599. 1447. 1190.  963.  858.]\n",
      "mac < total? True True\n",
      "0.27948739312736637\n",
      "0.3099465572360147\n"
     ]
    }
   ],
   "source": [
    "re_mac_sev1 = gen_mac_sev(mac_kind, sev_kind, 0, 2, 0.4, 0.4)\n",
    "m, n, mac_cpu1, mac_mem1 = com_cpu_mem(total_cpu, total_mem, s_cpu, s_mem, re_mac_sev1, mac_kind)\n",
    "re_mac_trf_1 = compute_mac_trf(mac_kind, sev_kind, re_mac_sev1, sev_trf_out, sev_trf_in)\n",
    "total_tcm_1 = gtotal_and_now_cpumem(mac_cpu1, total_cpu, mac_mem1, total_mem, re_mac_trf_1)\n",
    "m_s_c1, m_s_m1 = gen_ms_cpu_mem(mac_kind, sev_kind, re_mac_sev1, s_cpu, s_mem)\n",
    "print(np.mean(total_tcm_1[:,3]))\n",
    "print(np.mean(total_tcm_1[:,-1]))"
   ]
  },
  {
   "cell_type": "code",
   "execution_count": 173,
   "metadata": {},
   "outputs": [],
   "source": [
    "np.save(path + 'VT_1mac_sev_' + str(mac_kind) + '_' + str(sev_kind) + '.npy', re_mac_sev1)\n",
    "np.save(path + 'VT_1mac_trf_' + str(mac_kind) + '_' + str(sev_kind) + '.npy', re_mac_trf_1)\n",
    "np.save(path + 'VT_1now_all_' + str(mac_kind) + '_' + str(sev_kind) + '.npy', total_tcm_1)\n",
    "np.save(path + 'VT_1mac_sev_cpu' + str(mac_kind) + '_' + str(sev_kind) + '.npy', m_s_c1)\n",
    "np.save(path + 'VT_1mac_sev_mem' + str(mac_kind) + '_' + str(sev_kind) + '.npy', m_s_m1)"
   ]
  },
  {
   "cell_type": "markdown",
   "metadata": {},
   "source": [
    "## 2"
   ]
  },
  {
   "cell_type": "code",
   "execution_count": 164,
   "metadata": {},
   "outputs": [
    {
     "name": "stdout",
     "output_type": "stream",
     "text": [
      "[0.46069826 0.59371952 0.72791106 0.73083675 0.50731422 0.68923933\n",
      " 0.72912801 0.82722635 0.75440631 0.83998145]\n",
      "[0.53590052 0.55595668 0.64781388 0.68070598 0.62815884 0.66224367\n",
      " 0.63763571 0.85548854 0.81881785 0.77297949]\n",
      "[2362. 3044. 3732. 3747. 2601. 2972. 3144. 3567. 3253. 3622.]\n",
      "[2672. 2772. 3230. 3394. 3132. 2745. 2643. 3546. 3394. 3204.]\n",
      "mac < total? True True\n",
      "0.6860461259880302\n",
      "0.6795701159870073\n"
     ]
    }
   ],
   "source": [
    "re_mac_sev2 = gen_mac_sev(mac_kind, sev_kind, 0, 3, 0.4, 0.14)\n",
    "m, n, mac_cpu2, mac_mem2 = com_cpu_mem(total_cpu, total_mem, s_cpu, s_mem, re_mac_sev2, mac_kind)\n",
    "re_mac_trf_2 = compute_mac_trf(mac_kind, sev_kind, re_mac_sev2, sev_trf_out, sev_trf_in)\n",
    "total_tcm_2 = gtotal_and_now_cpumem(mac_cpu2, total_cpu, mac_mem2, total_mem, re_mac_trf_2)\n",
    "m_s_c2, m_s_m2 = gen_ms_cpu_mem(mac_kind, sev_kind, re_mac_sev2, s_cpu, s_mem)\n",
    "print(np.mean(total_tcm_2[:,3]))\n",
    "print(np.mean(total_tcm_2[:,-1]))"
   ]
  },
  {
   "cell_type": "code",
   "execution_count": 174,
   "metadata": {},
   "outputs": [],
   "source": [
    "np.save(path + 'VT_2mac_sev_' + str(mac_kind) + '_' + str(sev_kind) + '.npy', re_mac_sev2)\n",
    "np.save(path + 'VT_2mac_trf_' + str(mac_kind) + '_' + str(sev_kind) + '.npy', re_mac_trf_2)\n",
    "np.save(path + 'VT_2now_all_' + str(mac_kind) + '_' + str(sev_kind) + '.npy', total_tcm_2)\n",
    "np.save(path + 'VT_2mac_sev_cpu' + str(mac_kind) + '_' + str(sev_kind) + '.npy', m_s_c2)\n",
    "np.save(path + 'VT_2mac_sev_mem' + str(mac_kind) + '_' + str(sev_kind) + '.npy', m_s_m2)"
   ]
  },
  {
   "cell_type": "markdown",
   "metadata": {},
   "source": [
    "## 3"
   ]
  },
  {
   "cell_type": "code",
   "execution_count": 168,
   "metadata": {},
   "outputs": [
    {
     "name": "stdout",
     "output_type": "stream",
     "text": [
      "[0.98244587 0.75931344 0.76106885 0.72693583 0.96391652 0.89030612\n",
      " 0.88265306 0.88961039 0.85876623 1.13172542]\n",
      "[0.81989571 0.74468512 0.86181308 0.80365022 0.80244685 1.08178528\n",
      " 0.82243667 0.89264174 0.97973462 0.92159228]\n",
      "[5037. 3893. 3902. 3727. 4942. 3839. 3806. 3836. 3703. 4880.]\n",
      "[4088. 3713. 4297. 4007. 4001. 4484. 3409. 3700. 4061. 3820.]\n",
      "mac < total? False False\n",
      "0.8846741739410803\n",
      "0.8730681565802824\n"
     ]
    }
   ],
   "source": [
    "re_mac_sev3 = gen_mac_sev(mac_kind, sev_kind, 0, 3, 0.2, 0.17)\n",
    "m, n, mac_cpu3, mac_mem3 = com_cpu_mem(total_cpu, total_mem, s_cpu, s_mem, re_mac_sev3, mac_kind)\n",
    "re_mac_trf_3 = compute_mac_trf(mac_kind, sev_kind, re_mac_sev3, sev_trf_out, sev_trf_in)\n",
    "total_tcm_3 = gtotal_and_now_cpumem(mac_cpu3, total_cpu, mac_mem3, total_mem, re_mac_trf_3)\n",
    "m_s_c3, m_s_m3 = gen_ms_cpu_mem(mac_kind, sev_kind, re_mac_sev3, s_cpu, s_mem)\n",
    "print(np.mean(total_tcm_3[:,3]))\n",
    "print(np.mean(total_tcm_3[:,-1]))"
   ]
  },
  {
   "cell_type": "code",
   "execution_count": 175,
   "metadata": {},
   "outputs": [],
   "source": [
    "np.save(path + 'VT_3mac_sev_' + str(mac_kind) + '_' + str(sev_kind) + '.npy', re_mac_sev3)\n",
    "np.save(path + 'VT_3mac_trf_' + str(mac_kind) + '_' + str(sev_kind) + '.npy', re_mac_trf_3)\n",
    "np.save(path + 'VT_3now_all_' + str(mac_kind) + '_' + str(sev_kind) + '.npy', total_tcm_3)\n",
    "np.save(path + 'VT_3mac_sev_cpu' + str(mac_kind) + '_' + str(sev_kind) + '.npy', m_s_c3)\n",
    "np.save(path + 'VT_3mac_sev_mem' + str(mac_kind) + '_' + str(sev_kind) + '.npy', m_s_m3)"
   ]
  },
  {
   "cell_type": "markdown",
   "metadata": {},
   "source": [
    "## 流量变化 分布不变"
   ]
  },
  {
   "cell_type": "code",
   "execution_count": 4,
   "metadata": {},
   "outputs": [
    {
     "name": "stdout",
     "output_type": "stream",
     "text": [
      "(20, 8)\n",
      "(20, 100)\n",
      "(20, 100)\n",
      "(20, 100)\n",
      "(100, 100)\n",
      "(100, 100)\n",
      "(100, 100)\n"
     ]
    }
   ],
   "source": [
    "ll_path = \"../\"\n",
    "rank_name = ll_path + 'rank.txt'\n",
    "CT_name = 3\n",
    "rank_array = np.loadtxt(rank_name, dtype=np.float32, delimiter=',')\n",
    "rank = int(rank_array[2])\n",
    "\n",
    "#reward_kind_name = 'reward.txt'\n",
    "##with open(reward_kind_name, 'r') as f:\n",
    "#    reward_kind = f.read()\n",
    "\n",
    "filename = ll_path + 'data' + str(rank) + '/'\n",
    "dot = '.npy'\n",
    "mac_kind = int(rank_array[0])\n",
    "sev_kind = int(rank_array[1])\n",
    "\n",
    "\n",
    "mac_sev_name = 'mac_sev' + '_' + \\\n",
    "    str(mac_kind) + '_' + str(sev_kind) + '_' + str(rank)\n",
    "\n",
    "###\n",
    "mac_trf_name = 'CT' + str(CT_name) + '_' + 'mac_trf' + \\\n",
    "    str(mac_kind) + '_' + str(sev_kind)\n",
    "sev_trf_name = 'CT' + str(CT_name) + '_' + 'sev_trf'  + str(mac_kind) + '_' + str(sev_kind)  # 后面可以补充字符串说明\n",
    "sev_trf_out_name = 'CT' + str(CT_name) + '_' + 'sev_trf_out' +  str(mac_kind) + '_' + \\\n",
    "    str(sev_kind)\n",
    "sev_trf_in_name = 'CT' + str(CT_name) + '_' +'sev_trf_in' +  str(mac_kind) + '_' + \\\n",
    "    str(sev_kind)\n",
    "\n",
    "\n",
    "\n",
    "sev_cpu_name = 'sev_cpu' + '_' + str(sev_kind) + '_' + str(rank)\n",
    "sev_mem_name = 'sev_mem' + '_' + str(sev_kind) + '_' + str(rank)\n",
    "mac_cpu_name = 'mac_cpu' + '_' + str(mac_kind) + '_' + str(rank)\n",
    "mac_mem_name = 'mac_mem' + '_' + str(mac_kind) + '_' + str(rank)\n",
    "total_cpu_name = 'total_cpu' + '_' + str(mac_kind) + '_' + str(rank)\n",
    "total_mem_name = 'total_mem' + '_' + str(mac_kind) + '_' + str(rank)\n",
    "mac_sev_cpu_name = 'mac_sev_cpu' + '_' + \\\n",
    "    str(mac_kind) + '_' + str(sev_kind) + '_' + str(rank)\n",
    "mac_sev_mem_name = 'mac_sev_mem' + '_' + \\\n",
    "    str(mac_kind) + '_' + str(sev_kind) + '_' + str(rank)\n",
    "now_all_name = 'CT' + str(CT_name) + '_' + 'now_all' + str(mac_kind) + '_' + str(sev_kind)\n",
    "\n",
    "trf_cpu_mem = np.load(filename + now_all_name + dot)\n",
    "mac_sev_cpu = np.load(filename + mac_sev_cpu_name + dot)\n",
    "mac_sev_mem = np.load(filename + mac_sev_mem_name + dot)\n",
    "mac_sev = np.load(filename + mac_sev_name + dot)\n",
    "sev_trf = np.load(filename + sev_trf_name + dot)\n",
    "sev_trf_out = np.load(filename + sev_trf_out_name + dot)\n",
    "sev_trf_in = np.load(filename + sev_trf_in_name + dot)\n",
    "\n",
    "s_cpu = np.load(filename + sev_cpu_name + dot)\n",
    "s_mem = np.load(filename + sev_mem_name + dot)\n",
    "stop = np.zeros(mac_sev.shape[0]).reshape((mac_sev.shape[0], 1))\n",
    "trf_cpu_mem = np.concatenate((trf_cpu_mem, stop), axis=1)\n",
    "\n",
    "topk = 0  # np.loadtxt('line2.csv', delimiter=\",\")\n",
    "\n",
    "\n",
    "print(trf_cpu_mem.shape)\n",
    "print(mac_sev_cpu.shape)\n",
    "print(mac_sev_mem.shape)\n",
    "print(mac_sev.shape)\n",
    "print(sev_trf.shape)\n",
    "print(sev_trf_out.shape)\n",
    "print(sev_trf_in.shape)\n",
    "\n",
    "np.savetxt(ll_path + str(mac_kind) + '_' + str(sev_kind) + '/' + sev_trf_name + '.csv', sev_trf, delimiter=',')\n",
    "np.savetxt(ll_path + str(mac_kind) + '_' + str(sev_kind) + '/' + sev_trf_in_name + '.csv', sev_trf_in, delimiter=',')\n",
    "np.savetxt(ll_path + str(mac_kind) + '_' + str(sev_kind) + '/' + sev_trf_out_name + '.csv', sev_trf_out, delimiter=',')"
   ]
  },
  {
   "cell_type": "code",
   "execution_count": null,
   "metadata": {},
   "outputs": [],
   "source": []
  },
  {
   "cell_type": "code",
   "execution_count": 11,
   "metadata": {},
   "outputs": [
    {
     "data": {
      "text/plain": [
       "array([[  0.,   0., 624., ..., 390.,   0.,   0.],\n",
       "       [  0.,   0.,   0., ...,   0.,   0.,   0.],\n",
       "       [  0.,   0.,   0., ...,   0.,   0.,   0.],\n",
       "       ...,\n",
       "       [  0.,   0.,   0., ...,   0., 198.,   0.],\n",
       "       [  0.,   0.,   0., ...,   0.,   0.,   0.],\n",
       "       [  0.,   0.,   0., ...,   0.,   0.,   0.]])"
      ]
     },
     "execution_count": 11,
     "metadata": {},
     "output_type": "execute_result"
    }
   ],
   "source": [
    "sev_trf "
   ]
  },
  {
   "cell_type": "code",
   "execution_count": 12,
   "metadata": {},
   "outputs": [],
   "source": [
    "a = mac_sev.sum(axis = 0) * sev_trf_in\n",
    "b = sev_trf_out * mac_sev.sum(axis = 0).reshape((mac_sev.shape[1], 1))"
   ]
  },
  {
   "cell_type": "code",
   "execution_count": 13,
   "metadata": {},
   "outputs": [
    {
     "name": "stdout",
     "output_type": "stream",
     "text": [
      "True\n",
      "True\n"
     ]
    }
   ],
   "source": [
    "print(np.allclose(a,b))\n",
    "print(np.allclose(a, sev_trf))"
   ]
  },
  {
   "cell_type": "markdown",
   "metadata": {},
   "source": [
    "## 1"
   ]
  },
  {
   "cell_type": "code",
   "execution_count": 77,
   "metadata": {},
   "outputs": [
    {
     "name": "stdout",
     "output_type": "stream",
     "text": [
      "流量利用率为0.615506329113924\n",
      "流量利用率为0.30390625\n"
     ]
    }
   ],
   "source": [
    "s1 = gen_sev_trf(sev_kind, 100, 1000, sev_trf, 0, 0.25)\n",
    "sev_trf_1, sev_trf_out_1, sev_trf_in_1 = gen_sev_trf_out_and_in(s1, mac_sev, sev_kind, lcm)\n",
    "mt1 = compute_mac_trf(mac_kind, sev_kind, mac_sev, sev_trf_out_1, sev_trf_in_1)\n",
    "now_all1 = gtotal_and_now_cpumem(mac_cpu, total_cpu, mac_mem, total_mem, mt1)\n",
    "np.save(path + 'CT1_sev_trf' + str(mac_kind) + '_' + str(sev_kind) + '.npy', sev_trf_1)\n",
    "np.save(path + 'CT1_sev_trf_out' + str(mac_kind) + '_' + str(sev_kind) + '.npy', sev_trf_out_1)\n",
    "np.save(path + 'CT1_sev_trf_in' + str(mac_kind) + '_' + str(sev_kind) + '.npy', sev_trf_in_1)\n",
    "np.save(path + 'CT1_mac_trf' + str(mac_kind) + '_' + str(sev_kind) + '.npy', mt1)\n",
    "np.save(path + 'CT1_now_all' + str(mac_kind) + '_' + str(sev_kind) + '.npy', now_all1)"
   ]
  },
  {
   "cell_type": "markdown",
   "metadata": {},
   "source": [
    "## 2"
   ]
  },
  {
   "cell_type": "code",
   "execution_count": 79,
   "metadata": {},
   "outputs": [
    {
     "name": "stdout",
     "output_type": "stream",
     "text": [
      "流量利用率为0.41107594936708863\n",
      "流量利用率为0.20296875\n"
     ]
    }
   ],
   "source": [
    "s2 = gen_sev_trf(sev_kind, 100, 1000, sev_trf, 0, 0.5)\n",
    "sev_trf_2, sev_trf_out_2, sev_trf_in_2 = gen_sev_trf_out_and_in(s2, mac_sev, sev_kind, lcm)\n",
    "mt2 = compute_mac_trf(mac_kind, sev_kind, mac_sev, sev_trf_out_2, sev_trf_in_2)\n",
    "now_all2 = gtotal_and_now_cpumem(mac_cpu, total_cpu, mac_mem, total_mem, mt2)\n",
    "np.save(path + 'CT2_sev_trf' + str(mac_kind) + '_' + str(sev_kind) + '.npy', sev_trf_2)\n",
    "np.save(path + 'CT2_sev_trf_out' + str(mac_kind) + '_' + str(sev_kind) + '.npy', sev_trf_out_2)\n",
    "np.save(path + 'CT2_sev_trf_in' + str(mac_kind) + '_' + str(sev_kind) + '.npy', sev_trf_in_2)\n",
    "np.save(path + 'CT2_mac_trf' + str(mac_kind) + '_' + str(sev_kind) + '.npy', mt2)\n",
    "np.save(path + 'CT2_now_all' + str(mac_kind) + '_' + str(sev_kind) + '.npy', now_all2)"
   ]
  },
  {
   "cell_type": "markdown",
   "metadata": {},
   "source": [
    "## 3"
   ]
  },
  {
   "cell_type": "code",
   "execution_count": 82,
   "metadata": {},
   "outputs": [
    {
     "name": "stdout",
     "output_type": "stream",
     "text": [
      "流量利用率为0.20537974683544305\n",
      "流量利用率为0.10140625\n"
     ]
    }
   ],
   "source": [
    "s3 = gen_sev_trf(sev_kind, 100, 1000, sev_trf, 0, 0.75)\n",
    "sev_trf_3, sev_trf_out_3, sev_trf_in_3 = gen_sev_trf_out_and_in(s3, mac_sev, sev_kind, lcm)\n",
    "mt3 = compute_mac_trf(mac_kind, sev_kind, mac_sev, sev_trf_out_3, sev_trf_in_3)\n",
    "now_all3 = gtotal_and_now_cpumem(mac_cpu, total_cpu, mac_mem, total_mem, mt3)\n",
    "np.save(path + 'CT3_sev_trf' + str(mac_kind) + '_' + str(sev_kind) + '.npy', sev_trf_3)\n",
    "np.save(path + 'CT3_sev_trf_out' + str(mac_kind) + '_' + str(sev_kind) + '.npy', sev_trf_out_3)\n",
    "np.save(path + 'CT3_sev_trf_in' + str(mac_kind) + '_' + str(sev_kind) + '.npy', sev_trf_in_3)\n",
    "np.save(path + 'CT3_mac_trf' + str(mac_kind) + '_' + str(sev_kind) + '.npy', mt3)\n",
    "np.save(path + 'CT3_now_all' + str(mac_kind) + '_' + str(sev_kind) + '.npy', now_all3)"
   ]
  },
  {
   "cell_type": "code",
   "execution_count": null,
   "metadata": {},
   "outputs": [],
   "source": []
  }
 ],
 "metadata": {
  "kernelspec": {
   "display_name": "Pytorch",
   "language": "python",
   "name": "python3"
  },
  "language_info": {
   "codemirror_mode": {
    "name": "ipython",
    "version": 3
   },
   "file_extension": ".py",
   "mimetype": "text/x-python",
   "name": "python",
   "nbconvert_exporter": "python",
   "pygments_lexer": "ipython3",
   "version": "3.9.0"
  }
 },
 "nbformat": 4,
 "nbformat_minor": 2
}
