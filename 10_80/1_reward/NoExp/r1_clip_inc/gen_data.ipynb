{
 "cells": [
  {
   "cell_type": "code",
   "execution_count": 1,
   "metadata": {},
   "outputs": [],
   "source": [
    "import torch\n",
    "import numpy as np\n",
    "import pandas as pd\n",
    "import random\n",
    "import copy \n",
    "import time "
   ]
  },
  {
   "cell_type": "code",
   "execution_count": null,
   "metadata": {},
   "outputs": [],
   "source": [
    "# 先写麻烦的 那就是要确保流量不变性\n",
    "# 确定一下流量的比例 到底这个初始的流量比例占百分之多少 然后输出一下\n",
    "# 把mac_sev s_cpu s_mem totoal_cpu total_mem 读进来 其实最简单的办法就是把mac_sev的每一种服务增加一下 然后直到物理机容量增加"
   ]
  },
  {
   "cell_type": "code",
   "execution_count": 2,
   "metadata": {},
   "outputs": [
    {
     "name": "stdout",
     "output_type": "stream",
     "text": [
      "(10, 8)\n",
      "(10, 80)\n",
      "(10, 80)\n",
      "(10, 80)\n",
      "(80, 80)\n",
      "(80, 80)\n",
      "(80, 80)\n",
      "(10,)\n",
      "(10,)\n",
      "(10,)\n",
      "(10,)\n"
     ]
    }
   ],
   "source": [
    "ll_path = \"../../\"\n",
    "rank_name = ll_path + 'rank.txt'\n",
    "\n",
    "rank_array = np.loadtxt(rank_name, dtype=np.float32, delimiter=',')\n",
    "rank = int(rank_array[2])\n",
    "\n",
    "reward_kind_name = 'reward.txt'\n",
    "with open(reward_kind_name, 'r') as f:\n",
    "    reward_kind = f.read()\n",
    "\n",
    "filename = ll_path + 'data' + str(rank) + '/'\n",
    "dot = '.npy'\n",
    "mac_kind = int(rank_array[0])\n",
    "sev_kind = int(rank_array[1])\n",
    "\n",
    "\n",
    "mac_sev_name = 'mac_sev' + '_' + \\\n",
    "    str(mac_kind) + '_' + str(sev_kind) + '_' + str(rank)\n",
    "mac_trf_name = 'mac_trf' + '_' + \\\n",
    "    str(mac_kind) + '_' + str(sev_kind) + '_' + str(rank)\n",
    "sev_trf_name = 'sev_trf' + '_' + str(sev_kind) + '_' + str(rank)  # 后面可以补充字符串说明\n",
    "sev_trf_out_name = 'sev_trf_out' + '_' + \\\n",
    "    str(sev_kind) + '_' + str(rank)  # 后面可以补充字符串说明\n",
    "sev_trf_in_name = 'sev_trf_in' + '_' + \\\n",
    "    str(sev_kind) + '_' + str(rank)  # 后面可以补充字符串说明\n",
    "sev_cpu_name = 'sev_cpu' + '_' + str(sev_kind) + '_' + str(rank)\n",
    "sev_mem_name = 'sev_mem' + '_' + str(sev_kind) + '_' + str(rank)\n",
    "mac_cpu_name = 'mac_cpu' + '_' + str(mac_kind) + '_' + str(rank)\n",
    "mac_mem_name = 'mac_mem' + '_' + str(mac_kind) + '_' + str(rank)\n",
    "total_cpu_name = 'total_cpu' + '_' + str(mac_kind) + '_' + str(rank)\n",
    "total_mem_name = 'total_mem' + '_' + str(mac_kind) + '_' + str(rank)\n",
    "mac_sev_cpu_name = 'mac_sev_cpu' + '_' + \\\n",
    "    str(mac_kind) + '_' + str(sev_kind) + '_' + str(rank)\n",
    "mac_sev_mem_name = 'mac_sev_mem' + '_' + \\\n",
    "    str(mac_kind) + '_' + str(sev_kind) + '_' + str(rank)\n",
    "now_all_name = 'now_all' + '_' + str(mac_kind) + '_' + str(rank)\n",
    "\n",
    "mac_cpu = np.load(filename + mac_cpu_name + dot)\n",
    "mac_mem = np.load(filename + mac_mem_name + dot)\n",
    "trf_cpu_mem = np.load(filename + now_all_name + dot)\n",
    "mac_sev_cpu = np.load(filename + mac_sev_cpu_name + dot)\n",
    "mac_sev_mem = np.load(filename + mac_sev_mem_name + dot)\n",
    "mac_sev = np.load(filename + mac_sev_name + dot)\n",
    "sev_trf = np.load(filename + sev_trf_name + dot)\n",
    "sev_trf_out = np.load(filename + sev_trf_out_name + dot)\n",
    "sev_trf_in = np.load(filename + sev_trf_in_name + dot)\n",
    "total_cpu = np.load(filename + total_cpu_name + dot)\n",
    "total_mem = np.load(filename + total_mem_name + dot)\n",
    "\n",
    "s_cpu = np.load(filename + sev_cpu_name + dot)\n",
    "s_mem = np.load(filename + sev_mem_name + dot)\n",
    "stop = np.zeros(mac_sev.shape[0]).reshape((mac_sev.shape[0], 1))\n",
    "trf_cpu_mem = np.concatenate((trf_cpu_mem, stop), axis=1)\n",
    "\n",
    "topk = 0  # np.loadtxt('line2.csv', delimiter=\",\")\n",
    "\n",
    "\n",
    "print(trf_cpu_mem.shape)\n",
    "print(mac_sev_cpu.shape)\n",
    "print(mac_sev_mem.shape)\n",
    "print(mac_sev.shape)\n",
    "print(sev_trf.shape)\n",
    "print(sev_trf_out.shape)\n",
    "print(sev_trf_in.shape)\n",
    "print(total_cpu.shape)\n",
    "print(total_mem.shape)\n",
    "print(mac_cpu.shape)\n",
    "print(mac_mem.shape)"
   ]
  },
  {
   "cell_type": "code",
   "execution_count": 4,
   "metadata": {},
   "outputs": [],
   "source": [
    "# 流量比\n",
    "trf_index = np.where(sev_trf != 0)[0]"
   ]
  },
  {
   "cell_type": "code",
   "execution_count": 71,
   "metadata": {},
   "outputs": [
    {
     "data": {
      "text/plain": [
       "(2581,)"
      ]
     },
     "execution_count": 71,
     "metadata": {},
     "output_type": "execute_result"
    }
   ],
   "source": [
    "trf_index.shape"
   ]
  },
  {
   "cell_type": "code",
   "execution_count": 63,
   "metadata": {},
   "outputs": [
    {
     "data": {
      "text/plain": [
       "(array([0, 0, 1, 1], dtype=int64), array([0, 2, 0, 2], dtype=int64))"
      ]
     },
     "execution_count": 63,
     "metadata": {},
     "output_type": "execute_result"
    }
   ],
   "source": [
    "np.where(a > 0)"
   ]
  },
  {
   "cell_type": "code",
   "execution_count": 5,
   "metadata": {},
   "outputs": [
    {
     "name": "stdout",
     "output_type": "stream",
     "text": [
      "10 -- 80 一共有多少个流量对 2581\n",
      "10 -- 80 流量对比例 0.40328125\n",
      "10 -- 80 流量对比例 0.8167721518987342\n"
     ]
    }
   ],
   "source": [
    "print(\"{} -- {} 一共有多少个流量对 {}\".format(mac_kind, sev_kind, trf_index.shape[0]))\n",
    "print(\"{} -- {} 流量对比例 {}\".format(mac_kind, sev_kind, trf_index.shape[0] / (sev_trf.shape[0] * sev_trf.shape[0]) ))\n",
    "print(\"{} -- {} 流量对比例 {}\".format(mac_kind, sev_kind, trf_index.shape[0] / (sev_trf.shape[0] * (sev_trf.shape[0] - 1) / 2) ))"
   ]
  },
  {
   "cell_type": "code",
   "execution_count": 6,
   "metadata": {},
   "outputs": [
    {
     "name": "stdout",
     "output_type": "stream",
     "text": [
      "0.5230830459211718\n",
      "0.5110695278504783\n"
     ]
    }
   ],
   "source": [
    "print(np.mean(trf_cpu_mem[:, 3]))\n",
    "print(np.mean(trf_cpu_mem[:, -2]))"
   ]
  },
  {
   "cell_type": "markdown",
   "metadata": {},
   "source": [
    "## 分布变化 CPU、MEM、TRF均不变"
   ]
  },
  {
   "cell_type": "code",
   "execution_count": 7,
   "metadata": {},
   "outputs": [],
   "source": [
    "def gen_mac_sev(t_mac_kind, t_sev_kind, t_sev_num_low, t_sev_num_high, rp1, rp2):\n",
    "    zero = 0\n",
    "    t_mac_sev = np.zeros((t_mac_kind, t_sev_kind))\n",
    "    for i in range(t_mac_kind):\n",
    "        for j in range(t_sev_kind):\n",
    "            if random.random() < rp1:\n",
    "                t_mac_sev[i][j] = 0\n",
    "            else:\n",
    "                t_mac_sev[i][j] = random.randint(t_sev_num_low, t_sev_num_high)\n",
    "    \n",
    "    for i in range(t_mac_kind):\n",
    "        for j in range(t_sev_kind):\n",
    "            if random.random() < rp2:\n",
    "                t_mac_sev[i][j] = 0\n",
    "\n",
    "    per_kinds = list(t_mac_sev.sum(axis = 0))\n",
    "    for i in range(len(per_kinds)):\n",
    "        if zero == per_kinds[i]:\n",
    "            i_random = random.randint(zero, t_mac_sev.shape[0] - 1)\n",
    "            t_mac_sev[i_random][i] = random.randint(max(t_sev_num_low, 1), t_sev_num_high)\n",
    "    return t_mac_sev\n",
    "\n",
    "def com_cpu_mem(t_total_cpu, t_total_mem, t_s_cpu, t_s_mem, t_mac_sev, t_mac_kind):\n",
    "    mac_cpu = np.zeros(t_mac_kind)\n",
    "    mac_mem = np.zeros(t_mac_kind)\n",
    "    for i in range(t_mac_kind):\n",
    "        for j in range(t_mac_sev.shape[1]):\n",
    "            mac_cpu[i] += t_s_cpu[j] * t_mac_sev[i][j]\n",
    "            mac_mem[i] += t_s_mem[j] * t_mac_sev[i][j]\n",
    "    print(mac_cpu / t_total_cpu)\n",
    "    print(mac_mem / t_total_mem)\n",
    "    print(mac_cpu)\n",
    "    print(mac_mem)\n",
    "    a = np.all(mac_cpu < t_total_cpu)\n",
    "    b = np.all(mac_mem < t_total_mem)\n",
    "    print(\"mac < total? {} {}\".format(a, b))\n",
    "    return a, b, mac_cpu, mac_mem      \n",
    "\n",
    "def compute_mac_trf(t_mac_kind, t_sev_kind, t_mac_sev, t_sev_trf_out, t_sev_trf_in):\n",
    "    t_mac_trf = np.zeros(t_mac_kind)\n",
    "    for i in range(t_mac_kind):\n",
    "        for j in range(t_sev_kind - 1):\n",
    "            for k in range(j + 1, t_sev_kind):\n",
    "                t_mac_trf[i] += min(t_mac_sev[i][j] * t_sev_trf_out[j][k], t_mac_sev[i][k] * t_sev_trf_in[j][k])\n",
    "    return t_mac_trf\n",
    "\n",
    "def gtotal_and_now_cpumem(test_cpu, t_total_cpu, test_mem, t_total_mem, t_mac_trf):\n",
    "    return np.stack((t_mac_trf, test_cpu, t_total_cpu, test_cpu/t_total_cpu, test_mem, t_total_mem, test_mem/t_total_mem), axis = 1)\n",
    "\n",
    "def gen_ms_cpu_mem(t_mac_kind, t_sev_kind, t_mac_sev, t_sev_cpu, t_sev_mem):\n",
    "    mac_sev_cpu = np.zeros((t_mac_kind, t_sev_kind))\n",
    "    mac_sev_mem = np.zeros((t_mac_kind, t_sev_kind))\n",
    "    for i in range(t_mac_kind):\n",
    "        for j in range(t_sev_kind):\n",
    "            if t_mac_sev[i][j] > 0:\n",
    "                mac_sev_cpu[i][j] = t_sev_cpu[j]\n",
    "                mac_sev_mem[i][j] = t_sev_mem[j]\n",
    "    return mac_sev_cpu, mac_sev_mem\n",
    "\n",
    "import math \n",
    "def lcm(x, y):\n",
    "    a = int(x)\n",
    "    b = int(y)\n",
    "    return a * b // math.gcd(a, b)\n",
    "\n",
    "def gen_sev_trf(t_sev_kind, t_trf_low, t_trf_high):\n",
    "    t_sev_trf = np.zeros((t_sev_kind, t_sev_kind))\n",
    "    for i in range(t_sev_kind - 1):\n",
    "        for j in range(i + 1, t_sev_kind):\n",
    "            if random.random() < 0.4:\n",
    "                t_sev_trf[i][j] = 0\n",
    "            else:\n",
    "                t_sev_trf[i][j] = int(random.randint(t_trf_low, t_trf_high))\n",
    "            #sev_trf[j][i] = sev_trf[i][j]\n",
    "    return t_sev_trf\n",
    "\n",
    "def gen_sev_trf_out_and_in(t_sev_trf, t_mac_sev, t_sev_kind, func):\n",
    "    sev_trf_out = np.zeros((t_sev_kind, t_sev_kind))\n",
    "    sev_trf_in = np.zeros((t_sev_kind, t_sev_kind))\n",
    "    per_kinds_demand = t_mac_sev.sum(axis = 0)\n",
    "    for i in range(t_sev_kind - 1):\n",
    "        for j in range(i + 1, t_sev_kind):\n",
    "            d_i = copy.deepcopy(per_kinds_demand[i])\n",
    "            #print('Testdi')\n",
    "            #print((i, d_i))\n",
    "            d_j = copy.deepcopy(per_kinds_demand[j])\n",
    "            #print('Testdj')\n",
    "            #print((j, d_j))\n",
    "            # 28, 3, 5 -- > 28 / 15 = 1 15, 3-5, 5-3\n",
    "            #i --> j\n",
    "            d = func(d_i, d_j)\n",
    "            #print('d, sev_yrfij')\n",
    "            #print(d)\n",
    "            #print(sev_trf[i][j])\n",
    "            t_sev_trf[i][j] = int(t_sev_trf[i][j] / d) * d\n",
    "            sev_trf_out[i][j] = t_sev_trf[i][j] / d_i\n",
    "            sev_trf_in[i][j] = t_sev_trf[i][j] / d_j\n",
    "    return t_sev_trf, sev_trf_out, sev_trf_in\n"
   ]
  },
  {
   "cell_type": "code",
   "execution_count": null,
   "metadata": {},
   "outputs": [],
   "source": [
    "def test():\n",
    "    return "
   ]
  },
  {
   "cell_type": "code",
   "execution_count": 8,
   "metadata": {},
   "outputs": [],
   "source": [
    "path = \"../../data1/\""
   ]
  },
  {
   "cell_type": "markdown",
   "metadata": {},
   "source": [
    "## 1"
   ]
  },
  {
   "cell_type": "code",
   "execution_count": 9,
   "metadata": {},
   "outputs": [
    {
     "name": "stdout",
     "output_type": "stream",
     "text": [
      "[0.35030232 0.43592744 0.29354398 0.3370392  0.23717574 0.26089981\n",
      " 0.36595547 0.40584416 0.33279221 0.32444341]\n",
      "[0.36803049 0.36141195 0.31407942 0.27196149 0.229643   0.26513872\n",
      " 0.4159228  0.33486128 0.28057901 0.28733414]\n",
      "[1796. 2235. 1505. 1728. 1216. 1125. 1578. 1750. 1435. 1399.]\n",
      "[1835. 1802. 1566. 1356. 1145. 1099. 1724. 1388. 1163. 1191.]\n",
      "mac < total? True True\n",
      "0.334392375227659\n",
      "0.31289623007146183\n"
     ]
    }
   ],
   "source": [
    "re_mac_sev1 = gen_mac_sev(mac_kind, sev_kind, 0, 2, 0.4, 0.4)\n",
    "sev_trf_old_1 = gen_sev_trf(sev_kind, 100, 1000)\n",
    "sev_trf_new_1, sev_trf_out_1, sev_trf_in_1 = gen_sev_trf_out_and_in(sev_trf_old_1, re_mac_sev1, sev_kind, lcm)\n",
    "m, n, mac_cpu1, mac_mem1 = com_cpu_mem(total_cpu, total_mem, s_cpu, s_mem, re_mac_sev1, mac_kind)\n",
    "re_mac_trf_1 = compute_mac_trf(mac_kind, sev_kind, re_mac_sev1, sev_trf_out_1, sev_trf_in_1)\n",
    "total_tcm_1 = gtotal_and_now_cpumem(mac_cpu1, total_cpu, mac_mem1, total_mem, re_mac_trf_1)\n",
    "m_s_c1, m_s_m1 = gen_ms_cpu_mem(mac_kind, sev_kind, re_mac_sev1, s_cpu, s_mem)\n",
    "print(np.mean(total_tcm_1[:,3]))\n",
    "print(np.mean(total_tcm_1[:,-1]))"
   ]
  },
  {
   "cell_type": "code",
   "execution_count": 10,
   "metadata": {},
   "outputs": [],
   "source": [
    "np.save(path + 'VT_1mac_sev_' + str(mac_kind) + '_' + str(sev_kind) + '.npy', re_mac_sev1)\n",
    "np.save(path + 'VT_1mac_trf_' + str(mac_kind) + '_' + str(sev_kind) + '.npy', re_mac_trf_1)\n",
    "np.save(path + 'VT_1now_all_' + str(mac_kind) + '_' + str(sev_kind) + '.npy', total_tcm_1)\n",
    "np.save(path + 'VT_1mac_sev_cpu' + str(mac_kind) + '_' + str(sev_kind) + '.npy', m_s_c1)\n",
    "np.save(path + 'VT_1mac_sev_mem' + str(mac_kind) + '_' + str(sev_kind) + '.npy', m_s_m1)\n",
    "np.save(path + 'VT_1sev_trf' + str(mac_kind) + '_' + str(sev_kind) + '.npy', sev_trf_new_1)\n",
    "np.save(path + 'VT_1sev_trf_out' + str(mac_kind) + '_' + str(sev_kind) + '.npy', sev_trf_out_1)\n",
    "np.save(path + 'VT_1sev_trf_in' + str(mac_kind) + '_' + str(sev_kind) + '.npy', sev_trf_in_1)"
   ]
  },
  {
   "cell_type": "markdown",
   "metadata": {},
   "source": [
    "## 2"
   ]
  },
  {
   "cell_type": "code",
   "execution_count": 11,
   "metadata": {},
   "outputs": [
    {
     "name": "stdout",
     "output_type": "stream",
     "text": [
      "[0.51921201 0.53325531 0.46069826 0.4519212  0.38287498 0.60088126\n",
      " 0.63520408 0.89053803 0.61363636 0.54684601]\n",
      "[0.53650221 0.4947854  0.64981949 0.40513438 0.5        0.73510253\n",
      " 0.72086852 0.81978287 0.7039807  0.62581423]\n",
      "[2662. 2734. 2362. 2317. 1963. 2591. 2739. 3840. 2646. 2358.]\n",
      "[2675. 2467. 3240. 2020. 2493. 3047. 2988. 3398. 2918. 2594.]\n",
      "mac < total? True True\n",
      "0.5635067522407654\n",
      "0.6191790330174187\n"
     ]
    }
   ],
   "source": [
    "re_mac_sev2 = gen_mac_sev(mac_kind, sev_kind, 0, 3, 0.4, 0.24)\n",
    "sev_trf_old_2 = gen_sev_trf(sev_kind, 100, 1000)\n",
    "sev_trf_new_2, sev_trf_out_2, sev_trf_in_2 = gen_sev_trf_out_and_in(sev_trf_old_2, re_mac_sev2, sev_kind, lcm)\n",
    "m, n, mac_cpu2, mac_mem2 = com_cpu_mem(total_cpu, total_mem, s_cpu, s_mem, re_mac_sev2, mac_kind)\n",
    "re_mac_trf_2 = compute_mac_trf(mac_kind, sev_kind, re_mac_sev2, sev_trf_out_2, sev_trf_in_2)\n",
    "total_tcm_2 = gtotal_and_now_cpumem(mac_cpu2, total_cpu, mac_mem2, total_mem, re_mac_trf_2)\n",
    "m_s_c2, m_s_m2 = gen_ms_cpu_mem(mac_kind, sev_kind, re_mac_sev2, s_cpu, s_mem)\n",
    "print(np.mean(total_tcm_2[:,3]))\n",
    "print(np.mean(total_tcm_2[:,-1]))"
   ]
  },
  {
   "cell_type": "code",
   "execution_count": 12,
   "metadata": {},
   "outputs": [],
   "source": [
    "np.save(path + 'VT_2mac_sev_' + str(mac_kind) + '_' + str(sev_kind) + '.npy', re_mac_sev2)\n",
    "np.save(path + 'VT_2mac_trf_' + str(mac_kind) + '_' + str(sev_kind) + '.npy', re_mac_trf_2)\n",
    "np.save(path + 'VT_2now_all_' + str(mac_kind) + '_' + str(sev_kind) + '.npy', total_tcm_2)\n",
    "np.save(path + 'VT_2mac_sev_cpu' + str(mac_kind) + '_' + str(sev_kind) + '.npy', m_s_c2)\n",
    "np.save(path + 'VT_2mac_sev_mem' + str(mac_kind) + '_' + str(sev_kind) + '.npy', m_s_m2)\n",
    "np.save(path + 'VT_2sev_trf' + str(mac_kind) + '_' + str(sev_kind) + '.npy', sev_trf_new_2)\n",
    "np.save(path + 'VT_2sev_trf_out' + str(mac_kind) + '_' + str(sev_kind) + '.npy', sev_trf_out_2)\n",
    "np.save(path + 'VT_2sev_trf_in' + str(mac_kind) + '_' + str(sev_kind) + '.npy', sev_trf_in_2)"
   ]
  },
  {
   "cell_type": "markdown",
   "metadata": {},
   "source": [
    "## 3"
   ]
  },
  {
   "cell_type": "code",
   "execution_count": 14,
   "metadata": {},
   "outputs": [
    {
     "name": "stdout",
     "output_type": "stream",
     "text": [
      "[0.79578701 0.67524868 0.6370197  0.70918666 0.75697289 0.69828386\n",
      " 0.97820037 0.65909091 0.82954545 0.85064935]\n",
      "[0.68351384 0.74047333 0.7452868  0.70537505 0.69173686 0.77539204\n",
      " 0.77466828 0.69384801 0.74089264 0.6960193 ]\n",
      "[4080. 3462. 3266. 3636. 3881. 3011. 4218. 2842. 3577. 3668.]\n",
      "[3408. 3692. 3716. 3517. 3449. 3214. 3211. 2876. 3071. 2885.]\n",
      "mac < total? True True\n",
      "0.7589984884852393\n",
      "0.724720614584528\n"
     ]
    }
   ],
   "source": [
    "re_mac_sev3 = gen_mac_sev(mac_kind, sev_kind, 0, 3, 0.3, 0.17)\n",
    "sev_trf_old_3 = gen_sev_trf(sev_kind, 100, 1000)\n",
    "sev_trf_new_3, sev_trf_out_3, sev_trf_in_3 = gen_sev_trf_out_and_in(sev_trf_old_3, re_mac_sev3, sev_kind, lcm)\n",
    "m, n, mac_cpu3, mac_mem3 = com_cpu_mem(total_cpu, total_mem, s_cpu, s_mem, re_mac_sev3, mac_kind)\n",
    "re_mac_trf_3 = compute_mac_trf(mac_kind, sev_kind, re_mac_sev3, sev_trf_out_3, sev_trf_in_3)\n",
    "total_tcm_3 = gtotal_and_now_cpumem(mac_cpu3, total_cpu, mac_mem3, total_mem, re_mac_trf_3)\n",
    "m_s_c3, m_s_m3 = gen_ms_cpu_mem(mac_kind, sev_kind, re_mac_sev3, s_cpu, s_mem)\n",
    "print(np.mean(total_tcm_3[:,3]))\n",
    "print(np.mean(total_tcm_3[:,-1]))"
   ]
  },
  {
   "cell_type": "code",
   "execution_count": 15,
   "metadata": {},
   "outputs": [],
   "source": [
    "np.save(path + 'VT_3mac_sev_' + str(mac_kind) + '_' + str(sev_kind) + '.npy', re_mac_sev3)\n",
    "np.save(path + 'VT_3mac_trf_' + str(mac_kind) + '_' + str(sev_kind) + '.npy', re_mac_trf_3)\n",
    "np.save(path + 'VT_3now_all_' + str(mac_kind) + '_' + str(sev_kind) + '.npy', total_tcm_3)\n",
    "np.save(path + 'VT_3mac_sev_cpu' + str(mac_kind) + '_' + str(sev_kind) + '.npy', m_s_c3)\n",
    "np.save(path + 'VT_3mac_sev_mem' + str(mac_kind) + '_' + str(sev_kind) + '.npy', m_s_m3)\n",
    "np.save(path + 'VT_3sev_trf' + str(mac_kind) + '_' + str(sev_kind) + '.npy', sev_trf_new_3)\n",
    "np.save(path + 'VT_3sev_trf_out' + str(mac_kind) + '_' + str(sev_kind) + '.npy', sev_trf_out_3)\n",
    "np.save(path + 'VT_3sev_trf_in' + str(mac_kind) + '_' + str(sev_kind) + '.npy', sev_trf_in_3)"
   ]
  },
  {
   "cell_type": "markdown",
   "metadata": {},
   "source": [
    "## 流量变化 分布不变"
   ]
  },
  {
   "cell_type": "code",
   "execution_count": 73,
   "metadata": {},
   "outputs": [],
   "source": [
    "# 之后要弄流量变化 这个太好说了 直接拿个新的流量矩阵就可以\n",
    "# 直接在之前的流量利用率上进行改动就可以了\n",
    "import math \n",
    "def lcm(x, y):\n",
    "    a = int(x)\n",
    "    b = int(y)\n",
    "    return a * b // math.gcd(a, b)\n",
    "\n",
    "def gen_sev_trf(t_sev_kind, t_trf_low, t_trf_high, tt_sev_trf, p, pr):\n",
    "    # t_sev_trf = np.zeros((t_sev_kind, t_sev_kind))\n",
    "    t_sev_trf = copy.deepcopy(tt_sev_trf)\n",
    "    for i in range(t_sev_kind - 1):\n",
    "        for j in range(i + 1, t_sev_kind):\n",
    "            if t_sev_trf[i][j] != 0:\n",
    "                if random.random() < pr:\n",
    "                    t_sev_trf[i][j] = 0\n",
    "            if t_sev_trf[i][j] == 0:\n",
    "                if random.random() < p:\n",
    "                    t_sev_trf[i][j] = int(random.randint(t_trf_low, t_trf_high))\n",
    "            #sev_trf[j][i] = sev_trf[i][j]\n",
    "    index = np.where(t_sev_trf != 0)[0]\n",
    "    print( \"流量利用率为{}\".format(index.shape[0] / ( (t_sev_trf.shape[0] - 1) * t_sev_trf.shape[0] / 2) )) \n",
    "    print( \"流量利用率为{}\".format(index.shape[0] / (t_sev_trf.shape[0] ** 2)) )\n",
    "    return t_sev_trf\n",
    "\n",
    "def gen_sev_trf_out_and_in(t_sev_trf, t_mac_sev, t_sev_kind, func):\n",
    "    sev_trf_out = np.zeros((t_sev_kind, t_sev_kind))\n",
    "    sev_trf_in = np.zeros((t_sev_kind, t_sev_kind))\n",
    "    per_kinds_demand = t_mac_sev.sum(axis = 0)\n",
    "    for i in range(t_sev_kind - 1):\n",
    "        for j in range(i + 1, t_sev_kind):\n",
    "            d_i = copy.deepcopy(per_kinds_demand[i])\n",
    "            #print('Testdi')\n",
    "            #print((i, d_i))\n",
    "            d_j = copy.deepcopy(per_kinds_demand[j])\n",
    "            #print('Testdj')\n",
    "            #print((j, d_j))\n",
    "            # 28, 3, 5 -- > 28 / 15 = 1 15, 3-5, 5-3\n",
    "            #i --> j\n",
    "            d = func(d_i, d_j)\n",
    "            #print('d, sev_yrfij')\n",
    "            #print(d)\n",
    "            #print(sev_trf[i][j])\n",
    "            t_sev_trf[i][j] = int(t_sev_trf[i][j] / d) * d\n",
    "            sev_trf_out[i][j] = t_sev_trf[i][j] / d_i\n",
    "            sev_trf_in[i][j] = t_sev_trf[i][j] / d_j\n",
    "    return t_sev_trf, sev_trf_out, sev_trf_in"
   ]
  },
  {
   "cell_type": "markdown",
   "metadata": {},
   "source": [
    "## 1"
   ]
  },
  {
   "cell_type": "code",
   "execution_count": 77,
   "metadata": {},
   "outputs": [
    {
     "name": "stdout",
     "output_type": "stream",
     "text": [
      "流量利用率为0.615506329113924\n",
      "流量利用率为0.30390625\n"
     ]
    }
   ],
   "source": [
    "s1 = gen_sev_trf(sev_kind, 100, 1000, sev_trf, 0, 0.25)\n",
    "sev_trf_1, sev_trf_out_1, sev_trf_in_1 = gen_sev_trf_out_and_in(s1, mac_sev, sev_kind, lcm)\n",
    "mt1 = compute_mac_trf(mac_kind, sev_kind, mac_sev, sev_trf_out_1, sev_trf_in_1)\n",
    "now_all1 = gtotal_and_now_cpumem(mac_cpu, total_cpu, mac_mem, total_mem, mt1)\n",
    "np.save(path + 'CT1_sev_trf' + str(mac_kind) + '_' + str(sev_kind) + '.npy', sev_trf_1)\n",
    "np.save(path + 'CT1_sev_trf_out' + str(mac_kind) + '_' + str(sev_kind) + '.npy', sev_trf_out_1)\n",
    "np.save(path + 'CT1_sev_trf_in' + str(mac_kind) + '_' + str(sev_kind) + '.npy', sev_trf_in_1)\n",
    "np.save(path + 'CT1_mac_trf' + str(mac_kind) + '_' + str(sev_kind) + '.npy', mt1)\n",
    "np.save(path + 'CT1_now_all' + str(mac_kind) + '_' + str(sev_kind) + '.npy', now_all1)"
   ]
  },
  {
   "cell_type": "markdown",
   "metadata": {},
   "source": [
    "## 2"
   ]
  },
  {
   "cell_type": "code",
   "execution_count": 79,
   "metadata": {},
   "outputs": [
    {
     "name": "stdout",
     "output_type": "stream",
     "text": [
      "流量利用率为0.41107594936708863\n",
      "流量利用率为0.20296875\n"
     ]
    }
   ],
   "source": [
    "s2 = gen_sev_trf(sev_kind, 100, 1000, sev_trf, 0, 0.5)\n",
    "sev_trf_2, sev_trf_out_2, sev_trf_in_2 = gen_sev_trf_out_and_in(s2, mac_sev, sev_kind, lcm)\n",
    "mt2 = compute_mac_trf(mac_kind, sev_kind, mac_sev, sev_trf_out_2, sev_trf_in_2)\n",
    "now_all2 = gtotal_and_now_cpumem(mac_cpu, total_cpu, mac_mem, total_mem, mt2)\n",
    "np.save(path + 'CT2_sev_trf' + str(mac_kind) + '_' + str(sev_kind) + '.npy', sev_trf_2)\n",
    "np.save(path + 'CT2_sev_trf_out' + str(mac_kind) + '_' + str(sev_kind) + '.npy', sev_trf_out_2)\n",
    "np.save(path + 'CT2_sev_trf_in' + str(mac_kind) + '_' + str(sev_kind) + '.npy', sev_trf_in_2)\n",
    "np.save(path + 'CT2_mac_trf' + str(mac_kind) + '_' + str(sev_kind) + '.npy', mt2)\n",
    "np.save(path + 'CT2_now_all' + str(mac_kind) + '_' + str(sev_kind) + '.npy', now_all2)"
   ]
  },
  {
   "cell_type": "markdown",
   "metadata": {},
   "source": [
    "## 3"
   ]
  },
  {
   "cell_type": "code",
   "execution_count": 82,
   "metadata": {},
   "outputs": [
    {
     "name": "stdout",
     "output_type": "stream",
     "text": [
      "流量利用率为0.20537974683544305\n",
      "流量利用率为0.10140625\n"
     ]
    }
   ],
   "source": [
    "s3 = gen_sev_trf(sev_kind, 100, 1000, sev_trf, 0, 0.75)\n",
    "sev_trf_3, sev_trf_out_3, sev_trf_in_3 = gen_sev_trf_out_and_in(s3, mac_sev, sev_kind, lcm)\n",
    "mt3 = compute_mac_trf(mac_kind, sev_kind, mac_sev, sev_trf_out_3, sev_trf_in_3)\n",
    "now_all3 = gtotal_and_now_cpumem(mac_cpu, total_cpu, mac_mem, total_mem, mt3)\n",
    "np.save(path + 'CT3_sev_trf' + str(mac_kind) + '_' + str(sev_kind) + '.npy', sev_trf_3)\n",
    "np.save(path + 'CT3_sev_trf_out' + str(mac_kind) + '_' + str(sev_kind) + '.npy', sev_trf_out_3)\n",
    "np.save(path + 'CT3_sev_trf_in' + str(mac_kind) + '_' + str(sev_kind) + '.npy', sev_trf_in_3)\n",
    "np.save(path + 'CT3_mac_trf' + str(mac_kind) + '_' + str(sev_kind) + '.npy', mt3)\n",
    "np.save(path + 'CT3_now_all' + str(mac_kind) + '_' + str(sev_kind) + '.npy', now_all3)"
   ]
  },
  {
   "cell_type": "code",
   "execution_count": null,
   "metadata": {},
   "outputs": [],
   "source": []
  }
 ],
 "metadata": {
  "kernelspec": {
   "display_name": "Pytorch",
   "language": "python",
   "name": "python3"
  },
  "language_info": {
   "codemirror_mode": {
    "name": "ipython",
    "version": 3
   },
   "file_extension": ".py",
   "mimetype": "text/x-python",
   "name": "python",
   "nbconvert_exporter": "python",
   "pygments_lexer": "ipython3",
   "version": "3.9.0"
  }
 },
 "nbformat": 4,
 "nbformat_minor": 2
}
